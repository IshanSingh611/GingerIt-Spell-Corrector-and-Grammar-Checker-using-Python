{
  "nbformat": 4,
  "nbformat_minor": 0,
  "metadata": {
    "colab": {
      "name": "Spell Checker and Grammer Corrector using GingerIt.ipynb",
      "provenance": [],
      "authorship_tag": "ABX9TyP5maiBP7eV8mZ4rZc7yaiK",
      "include_colab_link": true
    },
    "kernelspec": {
      "name": "python3",
      "display_name": "Python 3"
    },
    "language_info": {
      "name": "python"
    }
  },
  "cells": [
    {
      "cell_type": "markdown",
      "metadata": {
        "id": "view-in-github",
        "colab_type": "text"
      },
      "source": [
        "<a href=\"https://colab.research.google.com/github/IshanSingh611/GingerIt-Spell-Corrector-and-Grammer-Checker-using-Python/blob/main/Spell_Checker_and_Grammer_Corrector_using_GingerIt.ipynb\" target=\"_parent\"><img src=\"https://colab.research.google.com/assets/colab-badge.svg\" alt=\"Open In Colab\"/></a>"
      ]
    },
    {
      "cell_type": "code",
      "metadata": {
        "colab": {
          "base_uri": "https://localhost:8080/"
        },
        "id": "JWQBRtSvV9IS",
        "outputId": "d24e00e8-3aaa-4790-8f3a-88b7bb1cdca6"
      },
      "source": [
        "pip install gingerit"
      ],
      "execution_count": 1,
      "outputs": [
        {
          "output_type": "stream",
          "text": [
            "Collecting gingerit\n",
            "  Downloading https://files.pythonhosted.org/packages/bd/ef/f66880c65391a0630bdd4ffc742c4e97c59146abf251bd764042ad1db049/gingerit-0.8.1-py3-none-any.whl\n",
            "Requirement already satisfied: requests<3.0,>=2.22 in /usr/local/lib/python3.7/dist-packages (from gingerit) (2.23.0)\n",
            "Requirement already satisfied: chardet<4,>=3.0.2 in /usr/local/lib/python3.7/dist-packages (from requests<3.0,>=2.22->gingerit) (3.0.4)\n",
            "Requirement already satisfied: certifi>=2017.4.17 in /usr/local/lib/python3.7/dist-packages (from requests<3.0,>=2.22->gingerit) (2020.12.5)\n",
            "Requirement already satisfied: idna<3,>=2.5 in /usr/local/lib/python3.7/dist-packages (from requests<3.0,>=2.22->gingerit) (2.10)\n",
            "Requirement already satisfied: urllib3!=1.25.0,!=1.25.1,<1.26,>=1.21.1 in /usr/local/lib/python3.7/dist-packages (from requests<3.0,>=2.22->gingerit) (1.24.3)\n",
            "Installing collected packages: gingerit\n",
            "Successfully installed gingerit-0.8.1\n"
          ],
          "name": "stdout"
        }
      ]
    },
    {
      "cell_type": "code",
      "metadata": {
        "colab": {
          "base_uri": "https://localhost:8080/",
          "height": 35
        },
        "id": "V4j2OYD7WgyR",
        "outputId": "0ebfcda5-4747-4c34-fd52-e08116a56ef0"
      },
      "source": [
        "from gingerit.gingerit import GingerIt\n",
        "\n",
        "text = 'Gud mrng evryne'\n",
        "\n",
        "parser = GingerIt()\n",
        "res=parser.parse(text)\n",
        "\n",
        "res['result']"
      ],
      "execution_count": 5,
      "outputs": [
        {
          "output_type": "execute_result",
          "data": {
            "application/vnd.google.colaboratory.intrinsic+json": {
              "type": "string"
            },
            "text/plain": [
              "'Gud mrng everyone'"
            ]
          },
          "metadata": {
            "tags": []
          },
          "execution_count": 5
        }
      ]
    },
    {
      "cell_type": "code",
      "metadata": {
        "colab": {
          "base_uri": "https://localhost:8080/",
          "height": 35
        },
        "id": "qJ9QMEPRWqZF",
        "outputId": "90633e4c-3829-4973-c718-219ddce51ac0"
      },
      "source": [
        "text2 = 'Pythone spellin correcto'\n",
        "\n",
        "parser = GingerIt()\n",
        "res=parser.parse(text2)\n",
        "\n",
        "res['result']"
      ],
      "execution_count": 8,
      "outputs": [
        {
          "output_type": "execute_result",
          "data": {
            "application/vnd.google.colaboratory.intrinsic+json": {
              "type": "string"
            },
            "text/plain": [
              "'Python spelling correction'"
            ]
          },
          "metadata": {
            "tags": []
          },
          "execution_count": 8
        }
      ]
    },
    {
      "cell_type": "code",
      "metadata": {
        "id": "zirubGMRXYc5"
      },
      "source": [
        ""
      ],
      "execution_count": null,
      "outputs": []
    }
  ]
}